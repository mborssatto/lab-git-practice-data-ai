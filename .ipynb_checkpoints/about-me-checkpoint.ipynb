{
 "cells": [
  {
   "cell_type": "markdown",
   "metadata": {},
   "source": [
    "## About Me Lab: AI Engineering, Data Analytics & Data Science\n",
    "\n",
    "In this notebook, you'll write a short introduction about yourself using Python!\n",
    "\n",
    "### Instructions:\n",
    "- Fill in the variables below with your details.\n",
    "- Run the cell to print your introduction.\n",
    "\n",
    "### What to Include:\n",
    "- Your name.\n",
    "- Why you're interested in AI Engineering, Data Analytics or Data Science.\n",
    "- A fun fact about yourself or a goal for this course.\n"
   ]
  },
  {
   "cell_type": "code",
   "execution_count": 8,
   "metadata": {},
   "outputs": [
    {
     "name": "stdout",
     "output_type": "stream",
     "text": [
      "👋 Hi! My name is Mariana.\n",
      "\n",
      "I’m excited to learn because I'm excited to learn about AI Engineering so that I can bring my coding skills to another level with the help of AI. With this I hope to build my own products and also apply this knowledge on future jobs as an engineer or product manager.\n",
      "\n",
      "A fun fact about me is: One fun fact about myself is that I shipped my first program in visual basics in a floppy disk when I was 13!\n"
     ]
    }
   ],
   "source": [
    "# About Me\n",
    "# Please fill in the following details.\n",
    "\n",
    "name = \"Mariana\"\n",
    "reason = \"I'm excited to learn about AI Engineering so that I can bring my coding skills to another level with the help of AI. With this I hope to build my own products and also apply this knowledge on future jobs as an engineer or product manager\"\n",
    "fun_fact = \"One fun fact about myself is that I shipped my first program in visual basics in a floppy disk when I was 13!\"\n",
    "\n",
    "print(f\"👋 Hi! My name is {name}.\")\n",
    "print(\"\")\n",
    "print(f\"I’m excited to learn because {reason}.\")\n",
    "print(\"\")\n",
    "print(f\"A fun fact about me is: {fun_fact}\")\n"
   ]
  },
  {
   "cell_type": "code",
   "execution_count": null,
   "metadata": {},
   "outputs": [],
   "source": []
  }
 ],
 "metadata": {
  "kernelspec": {
   "display_name": "Python 3 (ipykernel)",
   "language": "python",
   "name": "python3"
  },
  "language_info": {
   "codemirror_mode": {
    "name": "ipython",
    "version": 3
   },
   "file_extension": ".py",
   "mimetype": "text/x-python",
   "name": "python",
   "nbconvert_exporter": "python",
   "pygments_lexer": "ipython3",
   "version": "3.13.7"
  }
 },
 "nbformat": 4,
 "nbformat_minor": 4
}
